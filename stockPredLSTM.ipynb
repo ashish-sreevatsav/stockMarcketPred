{
 "cells": [
  {
   "cell_type": "markdown",
   "metadata": {},
   "source": [
    "STOCK MARKET PREDICTION USING THE LONG SHORT TERM MEMORY(LSTM) MODEL."
   ]
  },
  {
   "cell_type": "code",
   "execution_count": 4,
   "metadata": {},
   "outputs": [
    {
     "name": "stderr",
     "output_type": "stream",
     "text": [
      "2024-03-13 02:06:41.448329: I tensorflow/core/platform/cpu_feature_guard.cc:182] This TensorFlow binary is optimized to use available CPU instructions in performance-critical operations.\n",
      "To enable the following instructions: AVX2 FMA, in other operations, rebuild TensorFlow with the appropriate compiler flags.\n"
     ]
    }
   ],
   "source": [
    "import numpy as np\n",
    "import pandas as pd\n",
    "import matplotlib.pyplot as plt\n",
    "from sklearn.preprocessing import MinMaxScaler\n",
    "from keras.models import Sequential\n",
    "from keras.layers import LSTM, Dense, Dropout"
   ]
  },
  {
   "cell_type": "code",
   "execution_count": 5,
   "metadata": {},
   "outputs": [
    {
     "name": "stderr",
     "output_type": "stream",
     "text": [
      "[*********************100%%**********************]  1 of 1 completed\n"
     ]
    }
   ],
   "source": [
    "import yfinance as yf\n",
    "\n",
    "# Load historical data\n",
    "stock_data = yf.download('AAPL', start='2010-01-01', end='2022-01-01')"
   ]
  },
  {
   "cell_type": "code",
   "execution_count": 6,
   "metadata": {},
   "outputs": [],
   "source": [
    "scaler = MinMaxScaler(feature_range=(0, 1))\n",
    "scaled_data = scaler.fit_transform(stock_data['Close'].values.reshape(-1,1))"
   ]
  },
  {
   "cell_type": "code",
   "execution_count": 7,
   "metadata": {},
   "outputs": [],
   "source": [
    "def create_sequences(data, seq_length):\n",
    "    X, y = [], []\n",
    "    for i in range(len(data) - seq_length):\n",
    "        X.append(data[i:i + seq_length])\n",
    "        y.append(data[i + seq_length])\n",
    "    return np.array(X), np.array(y)\n",
    "\n",
    "sequence_length = 50\n",
    "X, y = create_sequences(scaled_data, sequence_length)"
   ]
  },
  {
   "cell_type": "code",
   "execution_count": 8,
   "metadata": {},
   "outputs": [],
   "source": [
    "train_size = int(len(X) * 0.7)\n",
    "test_size = len(X) - train_size\n",
    "X_train, X_test = X[:train_size], X[train_size:]\n",
    "y_train, y_test = y[:train_size], y[train_size:]"
   ]
  },
  {
   "cell_type": "code",
   "execution_count": 9,
   "metadata": {},
   "outputs": [],
   "source": [
    "model = Sequential()\n",
    "model.add(LSTM(units=50, return_sequences=True, input_shape=(sequence_length, 1)))\n",
    "model.add(LSTM(units=50, return_sequences=False))\n",
    "model.add(Dense(units=1))\n",
    "model.compile(optimizer='adam', loss='mean_squared_error')"
   ]
  },
  {
   "cell_type": "code",
   "execution_count": 10,
   "metadata": {},
   "outputs": [
    {
     "name": "stdout",
     "output_type": "stream",
     "text": [
      "Epoch 1/100\n",
      "65/65 [==============================] - 4s 23ms/step - loss: 8.4854e-04\n",
      "Epoch 2/100\n",
      "65/65 [==============================] - 2s 23ms/step - loss: 3.0481e-05\n",
      "Epoch 3/100\n",
      "65/65 [==============================] - 1s 23ms/step - loss: 2.9077e-05\n",
      "Epoch 4/100\n",
      "65/65 [==============================] - 1s 23ms/step - loss: 2.8329e-05\n",
      "Epoch 5/100\n",
      "65/65 [==============================] - 1s 23ms/step - loss: 2.8672e-05\n",
      "Epoch 6/100\n",
      "65/65 [==============================] - 2s 24ms/step - loss: 2.8707e-05\n",
      "Epoch 7/100\n",
      "65/65 [==============================] - 2s 23ms/step - loss: 2.7302e-05\n",
      "Epoch 8/100\n",
      "65/65 [==============================] - 1s 23ms/step - loss: 2.6897e-05\n",
      "Epoch 9/100\n",
      "65/65 [==============================] - 1s 23ms/step - loss: 2.8765e-05\n",
      "Epoch 10/100\n",
      "65/65 [==============================] - 1s 23ms/step - loss: 3.0991e-05\n",
      "Epoch 11/100\n",
      "65/65 [==============================] - 1s 22ms/step - loss: 2.4843e-05\n",
      "Epoch 12/100\n",
      "65/65 [==============================] - 1s 22ms/step - loss: 2.5299e-05\n",
      "Epoch 13/100\n",
      "65/65 [==============================] - 1s 22ms/step - loss: 2.2669e-05\n",
      "Epoch 14/100\n",
      "65/65 [==============================] - 1s 22ms/step - loss: 2.2074e-05\n",
      "Epoch 15/100\n",
      "65/65 [==============================] - 1s 22ms/step - loss: 2.8334e-05\n",
      "Epoch 16/100\n",
      "65/65 [==============================] - 2s 24ms/step - loss: 2.2619e-05\n",
      "Epoch 17/100\n",
      "65/65 [==============================] - 1s 22ms/step - loss: 2.2668e-05\n",
      "Epoch 18/100\n",
      "65/65 [==============================] - 1s 22ms/step - loss: 2.0681e-05\n",
      "Epoch 19/100\n",
      "65/65 [==============================] - 1s 22ms/step - loss: 2.0657e-05\n",
      "Epoch 20/100\n",
      "65/65 [==============================] - 1s 22ms/step - loss: 2.1236e-05\n",
      "Epoch 21/100\n",
      "65/65 [==============================] - 1s 22ms/step - loss: 2.0780e-05\n",
      "Epoch 22/100\n",
      "65/65 [==============================] - 1s 22ms/step - loss: 1.8098e-05\n",
      "Epoch 23/100\n",
      "65/65 [==============================] - 1s 22ms/step - loss: 1.8474e-05\n",
      "Epoch 24/100\n",
      "65/65 [==============================] - 1s 22ms/step - loss: 1.7691e-05\n",
      "Epoch 25/100\n",
      "65/65 [==============================] - 1s 22ms/step - loss: 2.5190e-05\n",
      "Epoch 26/100\n",
      "65/65 [==============================] - 2s 24ms/step - loss: 1.7261e-05\n",
      "Epoch 27/100\n",
      "65/65 [==============================] - 2s 23ms/step - loss: 1.7270e-05\n",
      "Epoch 28/100\n",
      "65/65 [==============================] - 2s 23ms/step - loss: 1.9075e-05\n",
      "Epoch 29/100\n",
      "65/65 [==============================] - 1s 23ms/step - loss: 1.4960e-05\n",
      "Epoch 30/100\n",
      "65/65 [==============================] - 2s 23ms/step - loss: 1.9169e-05\n",
      "Epoch 31/100\n",
      "65/65 [==============================] - 1s 22ms/step - loss: 1.5516e-05\n",
      "Epoch 32/100\n",
      "65/65 [==============================] - 1s 21ms/step - loss: 1.4605e-05\n",
      "Epoch 33/100\n",
      "65/65 [==============================] - 1s 21ms/step - loss: 1.4705e-05\n",
      "Epoch 34/100\n",
      "65/65 [==============================] - 1s 22ms/step - loss: 1.4932e-05\n",
      "Epoch 35/100\n",
      "65/65 [==============================] - 1s 21ms/step - loss: 1.4300e-05\n",
      "Epoch 36/100\n",
      "65/65 [==============================] - 1s 21ms/step - loss: 1.2820e-05\n",
      "Epoch 37/100\n",
      "65/65 [==============================] - 1s 21ms/step - loss: 1.5107e-05\n",
      "Epoch 38/100\n",
      "65/65 [==============================] - 1s 21ms/step - loss: 1.5190e-05\n",
      "Epoch 39/100\n",
      "65/65 [==============================] - 1s 21ms/step - loss: 1.2712e-05\n",
      "Epoch 40/100\n",
      "65/65 [==============================] - 1s 22ms/step - loss: 1.2896e-05\n",
      "Epoch 41/100\n",
      "65/65 [==============================] - 1s 21ms/step - loss: 1.1605e-05\n",
      "Epoch 42/100\n",
      "65/65 [==============================] - 1s 21ms/step - loss: 1.1618e-05\n",
      "Epoch 43/100\n",
      "65/65 [==============================] - 1s 21ms/step - loss: 1.3253e-05\n",
      "Epoch 44/100\n",
      "65/65 [==============================] - 1s 22ms/step - loss: 1.1162e-05\n",
      "Epoch 45/100\n",
      "65/65 [==============================] - 2s 30ms/step - loss: 1.1395e-05\n",
      "Epoch 46/100\n",
      "65/65 [==============================] - 1s 21ms/step - loss: 1.2269e-05\n",
      "Epoch 47/100\n",
      "65/65 [==============================] - 1s 21ms/step - loss: 1.0105e-05\n",
      "Epoch 48/100\n",
      "65/65 [==============================] - 1s 22ms/step - loss: 1.1931e-05\n",
      "Epoch 49/100\n",
      "65/65 [==============================] - 1s 21ms/step - loss: 9.7044e-06\n",
      "Epoch 50/100\n",
      "65/65 [==============================] - 1s 22ms/step - loss: 9.7312e-06\n",
      "Epoch 51/100\n",
      "65/65 [==============================] - 1s 22ms/step - loss: 1.0946e-05\n",
      "Epoch 52/100\n",
      "65/65 [==============================] - 1s 22ms/step - loss: 9.1369e-06\n",
      "Epoch 53/100\n",
      "65/65 [==============================] - 1s 21ms/step - loss: 1.0197e-05\n",
      "Epoch 54/100\n",
      "65/65 [==============================] - 1s 21ms/step - loss: 9.2054e-06\n",
      "Epoch 55/100\n",
      "65/65 [==============================] - 1s 21ms/step - loss: 8.6500e-06\n",
      "Epoch 56/100\n",
      "65/65 [==============================] - 1s 21ms/step - loss: 8.2403e-06\n",
      "Epoch 57/100\n",
      "65/65 [==============================] - 1s 21ms/step - loss: 8.2445e-06\n",
      "Epoch 58/100\n",
      "65/65 [==============================] - 1s 21ms/step - loss: 8.4854e-06\n",
      "Epoch 59/100\n",
      "65/65 [==============================] - 1s 21ms/step - loss: 8.5900e-06\n",
      "Epoch 60/100\n",
      "65/65 [==============================] - 1s 22ms/step - loss: 8.7579e-06\n",
      "Epoch 61/100\n",
      "65/65 [==============================] - 1s 21ms/step - loss: 8.5635e-06\n",
      "Epoch 62/100\n",
      "65/65 [==============================] - 1s 21ms/step - loss: 8.0689e-06\n",
      "Epoch 63/100\n",
      "65/65 [==============================] - 1s 21ms/step - loss: 8.4592e-06\n",
      "Epoch 64/100\n",
      "65/65 [==============================] - 1s 21ms/step - loss: 8.0514e-06\n",
      "Epoch 65/100\n",
      "65/65 [==============================] - 1s 22ms/step - loss: 8.0702e-06\n",
      "Epoch 66/100\n",
      "65/65 [==============================] - 1s 22ms/step - loss: 9.6224e-06\n",
      "Epoch 67/100\n",
      "65/65 [==============================] - 1s 20ms/step - loss: 8.0373e-06\n",
      "Epoch 68/100\n",
      "65/65 [==============================] - 1s 20ms/step - loss: 7.3884e-06\n",
      "Epoch 69/100\n",
      "65/65 [==============================] - 1s 20ms/step - loss: 7.5992e-06\n",
      "Epoch 70/100\n",
      "65/65 [==============================] - 1s 20ms/step - loss: 6.8990e-06\n",
      "Epoch 71/100\n",
      "65/65 [==============================] - 1s 20ms/step - loss: 6.9465e-06\n",
      "Epoch 72/100\n",
      "65/65 [==============================] - 1s 20ms/step - loss: 8.9395e-06\n",
      "Epoch 73/100\n",
      "65/65 [==============================] - 1s 20ms/step - loss: 6.9818e-06\n",
      "Epoch 74/100\n",
      "65/65 [==============================] - 1s 21ms/step - loss: 7.7663e-06\n",
      "Epoch 75/100\n",
      "65/65 [==============================] - 1s 20ms/step - loss: 7.4739e-06\n",
      "Epoch 76/100\n",
      "65/65 [==============================] - 1s 20ms/step - loss: 6.6350e-06\n",
      "Epoch 77/100\n",
      "65/65 [==============================] - 1s 20ms/step - loss: 7.5574e-06\n",
      "Epoch 78/100\n",
      "65/65 [==============================] - 1s 20ms/step - loss: 7.4710e-06\n",
      "Epoch 79/100\n",
      "65/65 [==============================] - 1s 20ms/step - loss: 6.4260e-06\n",
      "Epoch 80/100\n",
      "65/65 [==============================] - 1s 20ms/step - loss: 6.1636e-06\n",
      "Epoch 81/100\n",
      "65/65 [==============================] - 1s 20ms/step - loss: 6.4922e-06\n",
      "Epoch 82/100\n",
      "65/65 [==============================] - 1s 20ms/step - loss: 6.5495e-06\n",
      "Epoch 83/100\n",
      "65/65 [==============================] - 1s 20ms/step - loss: 6.8834e-06\n",
      "Epoch 84/100\n",
      "65/65 [==============================] - 1s 20ms/step - loss: 7.2182e-06\n",
      "Epoch 85/100\n",
      "65/65 [==============================] - 1s 20ms/step - loss: 7.3323e-06\n",
      "Epoch 86/100\n",
      "65/65 [==============================] - 1s 20ms/step - loss: 6.1979e-06\n",
      "Epoch 87/100\n",
      "65/65 [==============================] - 1s 20ms/step - loss: 6.9935e-06\n",
      "Epoch 88/100\n",
      "65/65 [==============================] - 1s 20ms/step - loss: 6.6894e-06\n",
      "Epoch 89/100\n",
      "65/65 [==============================] - 1s 21ms/step - loss: 6.7598e-06\n",
      "Epoch 90/100\n",
      "65/65 [==============================] - 1s 21ms/step - loss: 7.6710e-06\n",
      "Epoch 91/100\n",
      "65/65 [==============================] - 1s 21ms/step - loss: 6.8487e-06\n",
      "Epoch 92/100\n",
      "65/65 [==============================] - 1s 21ms/step - loss: 6.4798e-06\n",
      "Epoch 93/100\n",
      "65/65 [==============================] - 1s 21ms/step - loss: 5.7957e-06\n",
      "Epoch 94/100\n",
      "65/65 [==============================] - 1s 21ms/step - loss: 7.1675e-06\n",
      "Epoch 95/100\n",
      "65/65 [==============================] - 1s 21ms/step - loss: 5.8049e-06\n",
      "Epoch 96/100\n",
      "65/65 [==============================] - 1s 22ms/step - loss: 5.8315e-06\n",
      "Epoch 97/100\n",
      "65/65 [==============================] - 1s 22ms/step - loss: 7.0258e-06\n",
      "Epoch 98/100\n",
      "65/65 [==============================] - 1s 22ms/step - loss: 5.6686e-06\n",
      "Epoch 99/100\n",
      "65/65 [==============================] - 1s 22ms/step - loss: 5.3728e-06\n",
      "Epoch 100/100\n",
      "65/65 [==============================] - 1s 22ms/step - loss: 6.0815e-06\n"
     ]
    },
    {
     "data": {
      "text/plain": [
       "<keras.src.callbacks.History at 0x7fb18a996c10>"
      ]
     },
     "execution_count": 10,
     "metadata": {},
     "output_type": "execute_result"
    }
   ],
   "source": [
    "model.fit(X_train, y_train, epochs=100, batch_size=32)"
   ]
  },
  {
   "cell_type": "code",
   "execution_count": 11,
   "metadata": {},
   "outputs": [
    {
     "name": "stdout",
     "output_type": "stream",
     "text": [
      "28/28 [==============================] - 1s 7ms/step\n"
     ]
    }
   ],
   "source": [
    "predictions = model.predict(X_test)"
   ]
  },
  {
   "cell_type": "code",
   "execution_count": 12,
   "metadata": {},
   "outputs": [
    {
     "data": {
      "image/png": "[encoded data removed]",
      "text/plain": [
       "<Figure size 640x480 with 1 Axes>"
      ]
     },
     "metadata": {},
     "output_type": "display_data"
    }
   ],
   "source": [
    "plt.plot(predictions, label='Predicted')\n",
    "plt.plot(y_test, label='Actual')\n",
    "plt.legend()\n",
    "plt.show()"
   ]
  }
 ],
 "metadata": {
  "kernelspec": {
   "display_name": "venve",
   "language": "python",
   "name": "python3"
  },
  "language_info": {
   "codemirror_mode": {
    "name": "ipython",
    "version": 3
   },
   "file_extension": ".py",
   "mimetype": "text/x-python",
   "name": "python",
   "nbconvert_exporter": "python",
   "pygments_lexer": "ipython3",
   "version": "3.8.18"
  }
 },
 "nbformat": 4,
 "nbformat_minor": 2
}
